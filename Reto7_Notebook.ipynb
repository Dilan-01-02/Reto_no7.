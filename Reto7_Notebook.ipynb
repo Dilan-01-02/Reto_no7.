{
 "cells": [
  {
   "attachments": {},
   "cell_type": "markdown",
   "metadata": {},
   "source": [
    "## Primer punto \n",
    "Imprimir un listado con los números del 1 al 100 cada uno con su respectivo cuadrado."
   ]
  },
  {
   "cell_type": "code",
   "execution_count": null,
   "metadata": {},
   "outputs": [],
   "source": [
    "i : int = 1\n",
    "\n",
    "while (i<=100):\n",
    "    # Este bucle imprime el listado de los números del 1 al 100 y su respectivo cuadrado\n",
    "    print(str(i) + \" Su cuadrado es --> \" +str(i**2))\n",
    "    i += 1"
   ]
  },
  {
   "attachments": {},
   "cell_type": "markdown",
   "metadata": {},
   "source": [
    "## Segundo punto \n",
    "Imprimir un listado con los números impares desde 1 hasta 999 y seguidamente otro listado con los números pares desde 2 hasta 1000."
   ]
  },
  {
   "cell_type": "code",
   "execution_count": null,
   "metadata": {},
   "outputs": [],
   "source": [
    "i : int = 0\n",
    "print(\"IMPARES\")\n",
    "while (i<=499):\n",
    "    # Este bucle imprime los números impares del 1 al 999\n",
    "    print(2 * i + 1)\n",
    "    i += 1\n",
    "print(\"\\n\")\n",
    "\n",
    "i = 1\n",
    "print(\"PARES\")\n",
    "while (i<=500):\n",
    "    # Este bucle imprime los números pares del 2 al 1000\n",
    "    print(2*i)\n",
    "    i += 1"
   ]
  },
  {
   "attachments": {},
   "cell_type": "markdown",
   "metadata": {},
   "source": [
    "## Tercer punto \n",
    "Imprimir los números pares en forma descendente hasta 2 que son menores o iguales a un número natural n ≥ 2 dado"
   ]
  },
  {
   "cell_type": "code",
   "execution_count": null,
   "metadata": {},
   "outputs": [],
   "source": [
    "def paresDescendentes(i:int):\n",
    "    # Esta función convierte los impares a pares e imprime los pares mayores a dos\n",
    "    if (i % 2 !=0):\n",
    "        # Este condicional convierte un posible número impar recibido, a un número par restandole uno\n",
    "        i = i - 1\n",
    "        \n",
    "    while(i >= 2):\n",
    "        # Este bucle imprime los números impares siempre y cuando estos sean mayores a dos \n",
    "        print(\" --> \" +str(i))\n",
    "        i -= 2\n",
    "\n",
    "if __name__ == \"__main__\":\n",
    "    # Función Main que recibe un número natural mayor o igual a dos y envia este número como parametro a la funcion paresDescendentes\n",
    "    i = int(input(\"Ingrese un número natural mayor o igual a dos: \"))\n",
    "    par = paresDescendentes(i)"
   ]
  },
  {
   "attachments": {},
   "cell_type": "markdown",
   "metadata": {},
   "source": [
    "## Cuarto punto\n",
    "En 2022 el país A tendrá una población de 25 millones de habitantes y el país B de 18,9 millones. Las tasas de crecimiento anual de la población serán de 2% y 3% respectivamente. \n",
    "Desarrollar un algoritmo para informar en que año la población del país B superará a la de A"
   ]
  },
  {
   "cell_type": "code",
   "execution_count": null,
   "metadata": {},
   "outputs": [],
   "source": [
    "A = 25\n",
    "B = 18.9\n",
    "i : int = 2022\n",
    "\n",
    "while (B <= A):\n",
    "    # Este bucle incrementa la población de cada país por su tasa de creciemiento poblacional anual e incrementa en uno, los años transcurridos cada vez que se realiza un incremento, hasta que la población del país B sea mayor a la del país A.\n",
    "    A = A * (1 + 0.02)\n",
    "    B = B * (1 + 0.03)\n",
    "    i += 1\n",
    "\n",
    "print(\"En el año \" +str(i)+ \" el país B superará la población del país A\")"
   ]
  },
  {
   "attachments": {},
   "cell_type": "markdown",
   "metadata": {},
   "source": [
    "## Quinto punto\n",
    "Imprimir el factorial de un número natural n dado."
   ]
  },
  {
   "cell_type": "code",
   "execution_count": null,
   "metadata": {},
   "outputs": [],
   "source": [
    "def factorialDeUnNumero(x:int) -> int:\n",
    "    # Función que recibe un parametro y calcula el factorial del parametro recibido\n",
    "    factorial = 1\n",
    "    while(x >= 2):\n",
    "        # Bucle que redefine el valor de factorial, decrementando en uno el parametro hasta que este sea menor a 2 y lo multiplica por la cantidad anteriormente guardada en factorial \n",
    "        factorial = x * factorial\n",
    "        x -= 1 \n",
    "    return factorial\n",
    "\n",
    "if __name__ == \"__main__\":\n",
    "    # Función Main que recibe un número natural y lo envía como parametro a la funcion factorialDeUnNumero y al final inprime el fatorial del número recibido\n",
    "    x = int(input(\"Ingrese un número natural: \"))\n",
    "    factorial = factorialDeUnNumero(x)\n",
    "    print (str(x)+ \"! = \" +str(factorial))"
   ]
  },
  {
   "attachments": {},
   "cell_type": "markdown",
   "metadata": {},
   "source": [
    "## Sexto punto\n",
    "Implementar un algoritmo que permita adivinar un número dado de 1 a 100, preguntando en cada caso si el número es mayor, menor o igual."
   ]
  },
  {
   "cell_type": "code",
   "execution_count": null,
   "metadata": {},
   "outputs": [],
   "source": [
    "import random\n",
    "# Importación del módulo random para obetener un número al azar que se encuentre en el rango de 1 a 100\n",
    "\n",
    "def adivinar(num:int):\n",
    "    # Función para adivinar un número recibido como parametro, comparándolo con un número ingresado por el usuario y a su vez entregandole pistas\n",
    "    bandera : bool = True\n",
    "    i : int = 0\n",
    "    while bandera or (x != num):\n",
    "        # Bucle que recibe el número ingresado por el usuario y entrega pistas para adivinar el número definido por la funcion randint \n",
    "        bandera = False\n",
    "        x = int(input(\"Ingrese un número del 1 al 100 para adivinar el número: \"))\n",
    "        if x < num:\n",
    "            # Condición que le indica al usuario que el número a adivinar es mayor al número ingresado \n",
    "            print(\"El número es mayor a \" +str(x))\n",
    "        if x > num:\n",
    "            # Condición que le indica al usuario que el número a adivinar es menor al número ingresado\n",
    "            print(\"El número es menor a \" +str(x))\n",
    "        i += 1\n",
    "        if i == 3:\n",
    "            # Condición que después de tres intentos fallidos, le da al usuario pistas de si el número a adivinar es par o impar \n",
    "            if num % 2 == 0:\n",
    "                # Condición que le indica al usuario que el número a adivinar es par \n",
    "                print(\"PISTA: El número es par\\n\")\n",
    "            if num % 2 != 0:\n",
    "                # Condición que le indica al usuario que el número a adivinar es impar\n",
    "                print(\"\\nPISTA: El número es impar\\n\")\n",
    "    # Impresión del mensaje para cuando el usuario adivine el número\n",
    "    print(\"\\nENHORABUENA: Usted adivinó el número\")\n",
    "\n",
    "if __name__ == \"__main__\":\n",
    "    # Función main que define el número al azar entre el rango de 1 a 100 y lo envía como parámetro a la función adivinar\n",
    "    num = random.randint(1,100)\n",
    "    numero = adivinar(num)"
   ]
  },
  {
   "attachments": {},
   "cell_type": "markdown",
   "metadata": {},
   "source": [
    "## Séptimo punto \n",
    "Implementar un programa que ingrese un número de 2 a 50 y muestre sus divisores."
   ]
  },
  {
   "cell_type": "code",
   "execution_count": null,
   "metadata": {},
   "outputs": [],
   "source": [
    "bandera : bool = True\n",
    "\n",
    "def divisores (x:int):\n",
    "    # Función que imprime los números de un número recibido como parámetro\n",
    "    i : float = 2.0 \n",
    "    print(\"Los divisores del número \"+str(x)+\" son: \")\n",
    "    while i <= (x/2):\n",
    "        # Bucle que busca e imprime los divisores de un número\n",
    "        if x%i == 0:\n",
    "            print(i)\n",
    "        i += 1\n",
    "\n",
    "if __name__ == \"__main__\":\n",
    "    # Función Main que le pide al usuario que ingrese un número que se encuentre en el rango se dos a cincuenta para conocer sus divisores\n",
    "    # Y envía como parámetro el número ingresado a la función divisores\n",
    "    while bandera or (x<2 or x>50):\n",
    "        bandera = False\n",
    "        x = int(input(\"Ingrese un número natural que se encuentre dentro de 2 y 50: \"))\n",
    "        if x<2 or x>50:\n",
    "            print(\"El número ingresado no se encuentra en el rango solicitado\")\n",
    "    div = divisores(x)"
   ]
  },
  {
   "attachments": {},
   "cell_type": "markdown",
   "metadata": {},
   "source": [
    "## Octavo punto\n",
    "Implementar el algoritmo que muestre los números primos del 1 al 100. nota: use funciones"
   ]
  },
  {
   "cell_type": "code",
   "execution_count": null,
   "metadata": {},
   "outputs": [],
   "source": [
    "def numPrimo (x:int) -> bool:\n",
    "    # Función que determina si el número recibido como parámetro es un número primo o no lo es\n",
    "    i : int = 2\n",
    "    bandera : bool = True\n",
    "    while bandera and (i <= x**0.5):\n",
    "        # Bucle que busca al menos un divisor del número recibido como parámetro para determinar si este es primo o no\n",
    "        if x % i == 0:\n",
    "            bandera = False\n",
    "        i += 1\n",
    "    return bandera\n",
    "\n",
    "if __name__ == \"__main__\":\n",
    "    # Funcion maín que imprime los números primos desde 1 hasta 100 \n",
    "    x : int = 1\n",
    "    while (x>=1 and x<=100):\n",
    "        num = numPrimo(x)\n",
    "        if num == True:\n",
    "            print(x)\n",
    "        x += 1"
   ]
  }
 ],
 "metadata": {
  "kernelspec": {
   "display_name": "Python 3",
   "language": "python",
   "name": "python3"
  },
  "language_info": {
   "codemirror_mode": {
    "name": "ipython",
    "version": 3
   },
   "file_extension": ".py",
   "mimetype": "text/x-python",
   "name": "python",
   "nbconvert_exporter": "python",
   "pygments_lexer": "ipython3",
   "version": "3.10.10"
  },
  "orig_nbformat": 4
 },
 "nbformat": 4,
 "nbformat_minor": 2
}
